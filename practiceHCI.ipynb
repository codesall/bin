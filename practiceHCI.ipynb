{
 "cells": [
  {
   "cell_type": "code",
   "execution_count": null,
   "id": "f76ad298-b75a-4bf3-8b4d-358ed8499cc2",
   "metadata": {},
   "outputs": [],
   "source": [
    "import tkinter as tk\n",
    "from tkinter import *\n",
    "from tkinter import ttk\n",
    "\n",
    "top=tk.Tk()\n",
    "top.title(\"Registration form\")\n",
    "top.geometry(\"500x500\")\n",
    "\n",
    "l=tk.Label(top,text=\"Registration Form\",font=(\"Arial\",16,\"bold\"))\n",
    "l.place(x=150,y=50)\n",
    "\n",
    "l1=tk.Label(top,text=\"Name\").place(x=100,y=100)\n",
    "t1=tk.Entry(top, width=30).place(x=150,y=100)\n",
    "\n",
    "l2=tk.Label(top,text=\"email\").place(x=100,y=150)\n",
    "t2=tk.Entry(top,width=30).place(x=150,y=150)\n",
    "\n",
    "c1=ttk.Checkbutton(top,text=\"Python\").place(x=100,y=200)\n",
    "c2=ttk.Checkbutton(top,text=\"Java\").place(x=200,y=200)\n",
    "\n",
    "country_list=[\"India\",\"US\",\"China\"]\n",
    "list=ttk.Combobox(top,values=country_list,width=37).place(x=100,y=300)\n",
    "\n",
    "addressText=tk.Text(top,width=30,height=4).place(x=100,y=400)\n",
    "\n",
    "top.mainloop()"
   ]
  },
  {
   "cell_type": "code",
   "execution_count": null,
   "id": "440e1e39-1734-4e36-a251-69ba24827529",
   "metadata": {},
   "outputs": [],
   "source": []
  },
  {
   "cell_type": "code",
   "execution_count": null,
   "id": "52285f47-abc3-4290-9191-e497412821f0",
   "metadata": {},
   "outputs": [],
   "source": []
  },
  {
   "cell_type": "code",
   "execution_count": null,
   "id": "a02b3a0b-596d-4ed4-a352-231b5f4acd73",
   "metadata": {},
   "outputs": [],
   "source": []
  }
 ],
 "metadata": {
  "kernelspec": {
   "display_name": "Python 3 (ipykernel)",
   "language": "python",
   "name": "python3"
  },
  "language_info": {
   "codemirror_mode": {
    "name": "ipython",
    "version": 3
   },
   "file_extension": ".py",
   "mimetype": "text/x-python",
   "name": "python",
   "nbconvert_exporter": "python",
   "pygments_lexer": "ipython3",
   "version": "3.12.4"
  }
 },
 "nbformat": 4,
 "nbformat_minor": 5
}
